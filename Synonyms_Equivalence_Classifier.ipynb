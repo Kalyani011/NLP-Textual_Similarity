{
 "cells": [
  {
   "cell_type": "markdown",
   "metadata": {},
   "source": [
    "# <h1 align='center'>Advanced Natural Language Processing - Assignment 1</font>\n",
    "\n",
    "<h3 align='center'>Submitted By: Kalyani Prashant Kawale <br><br> Student ID: 21237189 </h4>"
   ]
  },
  {
   "cell_type": "markdown",
   "metadata": {},
   "source": [
    "## Task 1"
   ]
  },
  {
   "cell_type": "code",
   "execution_count": null,
   "metadata": {},
   "outputs": [],
   "source": [
    "import pandas as pd\n",
    "import numpy as np"
   ]
  },
  {
   "cell_type": "code",
   "execution_count": 19,
   "metadata": {},
   "outputs": [
    {
     "data": {
      "text/html": [
       "<div>\n",
       "<style scoped>\n",
       "    .dataframe tbody tr th:only-of-type {\n",
       "        vertical-align: middle;\n",
       "    }\n",
       "\n",
       "    .dataframe tbody tr th {\n",
       "        vertical-align: top;\n",
       "    }\n",
       "\n",
       "    .dataframe thead th {\n",
       "        text-align: right;\n",
       "    }\n",
       "</style>\n",
       "<table border=\"1\" class=\"dataframe\">\n",
       "  <thead>\n",
       "    <tr style=\"text-align: right;\">\n",
       "      <th></th>\n",
       "      <th>LEMMA 1</th>\n",
       "      <th>DEFINITION 1</th>\n",
       "      <th>EXAMPLE 1</th>\n",
       "      <th>LEMMA 2</th>\n",
       "      <th>DEFINITION 2</th>\n",
       "      <th>EXAMPLE 2</th>\n",
       "      <th>LABEL</th>\n",
       "    </tr>\n",
       "  </thead>\n",
       "  <tbody>\n",
       "    <tr>\n",
       "      <th>0</th>\n",
       "      <td>abused, ill-treated, maltreated, mistreated</td>\n",
       "      <td>subjected to cruel treatment</td>\n",
       "      <td>\"an abused wife\"</td>\n",
       "      <td>battered</td>\n",
       "      <td>exhibiting symptoms resulting from repeated ph...</td>\n",
       "      <td>NaN</td>\n",
       "      <td>more specific</td>\n",
       "    </tr>\n",
       "    <tr>\n",
       "      <th>1</th>\n",
       "      <td>acaudate, acaudal</td>\n",
       "      <td>lacking a tail or taillike appendage</td>\n",
       "      <td>NaN</td>\n",
       "      <td>anurous, tailless</td>\n",
       "      <td>not having a tail</td>\n",
       "      <td>\"anurous toads and frogs\"</td>\n",
       "      <td>equivalent</td>\n",
       "    </tr>\n",
       "    <tr>\n",
       "      <th>2</th>\n",
       "      <td>accustomed to, used to</td>\n",
       "      <td>in the habit of or adapted to</td>\n",
       "      <td>\"accustomed to doing her own work\", \"I've grow...</td>\n",
       "      <td>used to, wont to</td>\n",
       "      <td>in the habit of doing something</td>\n",
       "      <td>\"...was wont to complain that this is a cold w...</td>\n",
       "      <td>more specific</td>\n",
       "    </tr>\n",
       "    <tr>\n",
       "      <th>3</th>\n",
       "      <td>adaptive, adaptative</td>\n",
       "      <td>having a capacity for adaptation</td>\n",
       "      <td>\"the adaptive coloring of a chameleon\"</td>\n",
       "      <td>accommodative, reconciling</td>\n",
       "      <td>tending to reconcile or accommodate; bringing ...</td>\n",
       "      <td>NaN</td>\n",
       "      <td>more intense</td>\n",
       "    </tr>\n",
       "    <tr>\n",
       "      <th>4</th>\n",
       "      <td>adaptive, adaptative</td>\n",
       "      <td>having a capacity for adaptation</td>\n",
       "      <td>\"the adaptive coloring of a chameleon\"</td>\n",
       "      <td>adaptational</td>\n",
       "      <td>of or relating to adaptation</td>\n",
       "      <td>NaN</td>\n",
       "      <td>more specific</td>\n",
       "    </tr>\n",
       "  </tbody>\n",
       "</table>\n",
       "</div>"
      ],
      "text/plain": [
       "                                       LEMMA 1  \\\n",
       "0  abused, ill-treated, maltreated, mistreated   \n",
       "1                            acaudate, acaudal   \n",
       "2                       accustomed to, used to   \n",
       "3                         adaptive, adaptative   \n",
       "4                         adaptive, adaptative   \n",
       "\n",
       "                           DEFINITION 1  \\\n",
       "0          subjected to cruel treatment   \n",
       "1  lacking a tail or taillike appendage   \n",
       "2         in the habit of or adapted to   \n",
       "3      having a capacity for adaptation   \n",
       "4      having a capacity for adaptation   \n",
       "\n",
       "                                           EXAMPLE 1  \\\n",
       "0                                   \"an abused wife\"   \n",
       "1                                                NaN   \n",
       "2  \"accustomed to doing her own work\", \"I've grow...   \n",
       "3             \"the adaptive coloring of a chameleon\"   \n",
       "4             \"the adaptive coloring of a chameleon\"   \n",
       "\n",
       "                      LEMMA 2  \\\n",
       "0                    battered   \n",
       "1           anurous, tailless   \n",
       "2            used to, wont to   \n",
       "3  accommodative, reconciling   \n",
       "4                adaptational   \n",
       "\n",
       "                                        DEFINITION 2  \\\n",
       "0  exhibiting symptoms resulting from repeated ph...   \n",
       "1                                  not having a tail   \n",
       "2                    in the habit of doing something   \n",
       "3  tending to reconcile or accommodate; bringing ...   \n",
       "4                       of or relating to adaptation   \n",
       "\n",
       "                                           EXAMPLE 2          LABEL  \n",
       "0                                                NaN  more specific  \n",
       "1                          \"anurous toads and frogs\"     equivalent  \n",
       "2  \"...was wont to complain that this is a cold w...  more specific  \n",
       "3                                                NaN   more intense  \n",
       "4                                                NaN  more specific  "
      ]
     },
     "execution_count": 19,
     "metadata": {},
     "output_type": "execute_result"
    }
   ],
   "source": [
    "synonyms_corpus = pd.read_csv('train.csv')\n",
    "\n",
    "synonyms_corpus.head()"
   ]
  },
  {
   "cell_type": "code",
   "execution_count": 37,
   "metadata": {},
   "outputs": [
    {
     "name": "stdout",
     "output_type": "stream",
     "text": [
      "(1190, 7)\n",
      "(794, 6)\n",
      "(396, 6)\n"
     ]
    }
   ],
   "source": [
    "corpus_len = len(synonyms_corpus)\n",
    "develop_size = int(corpus_len / 3)\n",
    "\n",
    "np.random.seed(100)\n",
    "\n",
    "shuffled_data = synonyms_corpus.sample(frac=1).reset_index(drop=True)\n",
    "\n",
    "train_data = synonyms_corpus.iloc[:(corpus_len - develop_size), :]\n",
    "development_data = synonyms_corpus.iloc[(corpus_len - develop_size):, :]\n",
    "\n",
    "y_train = train_data['LABEL'].values\n",
    "del train_data['LABEL']\n",
    "X_train = train_data.values\n",
    "\n",
    "y_develop = development_data['LABEL'].values\n",
    "del development_data['LABEL']\n",
    "X_develop = development_data.values\n",
    "\n",
    "print(synonyms_corpus.shape)\n",
    "print(X_train.shape)\n",
    "print(X_develop.shape)\n"
   ]
  },
  {
   "cell_type": "markdown",
   "metadata": {},
   "source": [
    "### Acknowledgments:"
   ]
  },
  {
   "cell_type": "markdown",
   "metadata": {},
   "source": [
    "https://www.analyticsvidhya.com/blog/2021/05/multiclass-classification-using-svm/"
   ]
  }
 ],
 "metadata": {
  "kernelspec": {
   "display_name": "Python 3",
   "language": "python",
   "name": "python3"
  },
  "language_info": {
   "codemirror_mode": {
    "name": "ipython",
    "version": 3
   },
   "file_extension": ".py",
   "mimetype": "text/x-python",
   "name": "python",
   "nbconvert_exporter": "python",
   "pygments_lexer": "ipython3",
   "version": "3.7.6"
  }
 },
 "nbformat": 4,
 "nbformat_minor": 4
}
