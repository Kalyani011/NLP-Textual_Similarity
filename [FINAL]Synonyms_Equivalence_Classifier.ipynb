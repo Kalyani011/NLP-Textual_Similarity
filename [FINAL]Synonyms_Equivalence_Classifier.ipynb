{
 "cells": [
  {
   "cell_type": "code",
   "execution_count": 1,
   "metadata": {
    "colab": {
     "base_uri": "https://localhost:8080/"
    },
    "id": "mbyRbWHQD3GZ",
    "outputId": "5daf657b-4de6-4d37-d2f3-9fb8a5a65b3f"
   },
   "outputs": [
    {
     "name": "stdout",
     "output_type": "stream",
     "text": [
      "\u001b[K     |████████████████████████████████| 4.9 MB 4.8 MB/s \n",
      "\u001b[K     |████████████████████████████████| 462 kB 49.1 MB/s \n",
      "\u001b[K     |████████████████████████████████| 1.8 MB 9.2 MB/s \n",
      "\u001b[K     |████████████████████████████████| 43 kB 2.1 MB/s \n",
      "\u001b[K     |████████████████████████████████| 99 kB 10.5 MB/s \n",
      "\u001b[K     |████████████████████████████████| 596 kB 44.8 MB/s \n",
      "\u001b[K     |████████████████████████████████| 90 kB 9.8 MB/s \n",
      "\u001b[K     |████████████████████████████████| 234 kB 49.0 MB/s \n",
      "\u001b[K     |████████████████████████████████| 352 kB 64.7 MB/s \n",
      "\u001b[K     |████████████████████████████████| 1.2 MB 53.2 MB/s \n",
      "\u001b[K     |████████████████████████████████| 47.7 MB 77 kB/s \n",
      "\u001b[K     |████████████████████████████████| 1.1 MB 40.2 MB/s \n",
      "\u001b[?25h  Building wheel for py-cpuinfo (setup.py) ... \u001b[?25l\u001b[?25hdone\n",
      "  Building wheel for seqeval (setup.py) ... \u001b[?25l\u001b[?25hdone\n"
     ]
    }
   ],
   "source": [
    "# A dependency of the preprocessing for BERT inputs\n",
    "!pip install -q -U \"tensorflow-text==2.8.*\"\n",
    "!pip install -q tf-models-official==2.7.0"
   ]
  },
  {
   "cell_type": "code",
   "execution_count": 2,
   "metadata": {
    "colab": {
     "base_uri": "https://localhost:8080/"
    },
    "id": "WN1zdlhjM7wP",
    "outputId": "34a4ea59-ed54-40c4-8de6-d2517abfe8e6"
   },
   "outputs": [
    {
     "name": "stdout",
     "output_type": "stream",
     "text": [
      "[nltk_data] Downloading package punkt to /root/nltk_data...\n",
      "[nltk_data]   Unzipping tokenizers/punkt.zip.\n"
     ]
    },
    {
     "data": {
      "text/plain": [
       "True"
      ]
     },
     "execution_count": 2,
     "metadata": {},
     "output_type": "execute_result"
    }
   ],
   "source": [
    "import nltk\n",
    "nltk.download('punkt')"
   ]
  },
  {
   "cell_type": "code",
   "execution_count": 3,
   "metadata": {
    "id": "TfaiCXmzEETm"
   },
   "outputs": [],
   "source": [
    "import os\n",
    "import shutil\n",
    "\n",
    "import tensorflow as tf\n",
    "import tensorflow_hub as hub\n",
    "import tensorflow_text as text\n",
    "from official.nlp import optimization  # to create AdamW optimizer\n",
    "\n",
    "import matplotlib.pyplot as plt\n",
    "import pandas as pd\n",
    "import numpy as np\n",
    "from keras.models import Sequential\n",
    "from keras.layers import Dense\n",
    "from keras.wrappers.scikit_learn import KerasClassifier\n",
    "from keras.utils import np_utils\n",
    "from sklearn.preprocessing import LabelEncoder\n",
    "\n",
    "tf.get_logger().setLevel('ERROR')"
   ]
  },
  {
   "cell_type": "code",
   "execution_count": 4,
   "metadata": {
    "colab": {
     "base_uri": "https://localhost:8080/"
    },
    "id": "p6CSlmw0EHsQ",
    "outputId": "30b9563a-af3b-43ef-d2b7-779b081d5e88"
   },
   "outputs": [
    {
     "name": "stdout",
     "output_type": "stream",
     "text": [
      "Mounted at /content/drive\n"
     ]
    }
   ],
   "source": [
    "from google.colab import drive\n",
    "drive.mount('/content/drive')"
   ]
  },
  {
   "cell_type": "code",
   "execution_count": 5,
   "metadata": {
    "colab": {
     "base_uri": "https://localhost:8080/"
    },
    "id": "3gcNfxVmEZIm",
    "outputId": "cb589006-a5d1-43a9-8085-9658862c8338"
   },
   "outputs": [
    {
     "name": "stdout",
     "output_type": "stream",
     "text": [
      "/content/drive/MyDrive/Colab Notebooks/AdvancedNLP\n"
     ]
    }
   ],
   "source": [
    "%cd drive/MyDrive/Colab Notebooks/AdvancedNLP"
   ]
  },
  {
   "cell_type": "code",
   "execution_count": 6,
   "metadata": {
    "colab": {
     "base_uri": "https://localhost:8080/"
    },
    "id": "xIxKktG-EbA0",
    "outputId": "8b4aa768-fd7f-4ca3-9bcf-7e48c34690e9"
   },
   "outputs": [
    {
     "name": "stdout",
     "output_type": "stream",
     "text": [
      "0.47058823529411764\n"
     ]
    }
   ],
   "source": [
    "synonyms_corpus = pd.read_csv('train.csv')\n",
    "\n",
    "synonyms_corpus.head()\n",
    "\n",
    "# [8] checking the percentage of majority class and selecting accuracy as evaluation metric\n",
    "label, count = np.unique(synonyms_corpus['LABEL'].values, return_counts=True)\n",
    "print(max(count)/sum(count))\n",
    "\n",
    "synonyms_corpus = synonyms_corpus.fillna('none')"
   ]
  },
  {
   "cell_type": "code",
   "execution_count": 136,
   "metadata": {
    "colab": {
     "base_uri": "https://localhost:8080/"
    },
    "id": "FL9f64ECCBQe",
    "outputId": "82077299-fcfb-4a19-c6eb-4a45ff358fa4"
   },
   "outputs": [
    {
     "name": "stdout",
     "output_type": "stream",
     "text": [
      "      LEMMA 1  ... LABEL\n",
      "0  peripteral  ...   NaN\n",
      "1  peripteral  ...   NaN\n",
      "2      manual  ...   NaN\n",
      "3   following  ...   NaN\n",
      "4      better  ...   NaN\n",
      "\n",
      "[5 rows x 8 columns]\n",
      "0.32038834951456313\n"
     ]
    },
    {
     "data": {
      "text/plain": [
       "(array(['equivalent', 'less intense', 'less specific', 'more intense',\n",
       "        'more specific', 'related'], dtype=object),\n",
       " array([22,  4,  5, 18, 33, 21]))"
      ]
     },
     "execution_count": 136,
     "metadata": {},
     "output_type": "execute_result"
    }
   ],
   "source": [
    "test_corpus = pd.read_csv('eval.csv')\n",
    "\n",
    "print(test_corpus.head())\n",
    "\n",
    "# [8] checking the percentage of majority class and selecting accuracy as evaluation metric\n",
    "label, count = np.unique(test_corpus['ANNOTATED'].values, return_counts=True)\n",
    "print(max(count)/sum(count))\n",
    "\n",
    "test_corpus = test_corpus.fillna('none')\n",
    "\n",
    "np.unique(test_corpus['ANNOTATED'].values, return_counts=True)"
   ]
  },
  {
   "cell_type": "code",
   "execution_count": 8,
   "metadata": {
    "colab": {
     "base_uri": "https://localhost:8080/"
    },
    "id": "CoNn9df5ElzU",
    "outputId": "ff379e5c-dea3-4a18-861b-fb9750aa1de4"
   },
   "outputs": [
    {
     "name": "stdout",
     "output_type": "stream",
     "text": [
      "BERT model selected           : https://tfhub.dev/tensorflow/small_bert/bert_en_uncased_L-2_H-128_A-2/1\n",
      "Preprocess model auto-selected: https://tfhub.dev/tensorflow/bert_en_uncased_preprocess/3\n"
     ]
    }
   ],
   "source": [
    "tfhub_handle_encoder = 'https://tfhub.dev/tensorflow/small_bert/bert_en_uncased_L-2_H-128_A-2/1'\n",
    "tfhub_handle_preprocess = 'https://tfhub.dev/tensorflow/bert_en_uncased_preprocess/3'\n",
    "\n",
    "print(f'BERT model selected           : {tfhub_handle_encoder}')\n",
    "print(f'Preprocess model auto-selected: {tfhub_handle_preprocess}')"
   ]
  },
  {
   "cell_type": "code",
   "execution_count": 9,
   "metadata": {
    "id": "FOuNNuN7E7Uj"
   },
   "outputs": [],
   "source": [
    "bert_preprocess_model = hub.KerasLayer(tfhub_handle_preprocess)"
   ]
  },
  {
   "cell_type": "code",
   "execution_count": 10,
   "metadata": {
    "id": "uYSzk8AKE-QL"
   },
   "outputs": [],
   "source": [
    "def1_preprocessed = bert_preprocess_model(synonyms_corpus['DEFINITION 1'])\n",
    "def2_preprocessed = bert_preprocess_model(synonyms_corpus['DEFINITION 2'])\n",
    "ex1_preprocessed = bert_preprocess_model(synonyms_corpus['EXAMPLE 1'])\n",
    "ex2_preprocessed = bert_preprocess_model(synonyms_corpus['EXAMPLE 2'])"
   ]
  },
  {
   "cell_type": "code",
   "execution_count": 137,
   "metadata": {
    "id": "zd5RgPS9Cocm"
   },
   "outputs": [],
   "source": [
    "#test\n",
    "test_def1_preprocessed = bert_preprocess_model(test_corpus['DEFINITION 1'])\n",
    "test_def2_preprocessed = bert_preprocess_model(test_corpus['DEFINITION 2'])\n",
    "test_ex1_preprocessed = bert_preprocess_model(test_corpus['EXAMPLE 1'])\n",
    "test_ex2_preprocessed = bert_preprocess_model(test_corpus['EXAMPLE 2'])"
   ]
  },
  {
   "cell_type": "code",
   "execution_count": 11,
   "metadata": {
    "id": "T8LmJD9gFCtl"
   },
   "outputs": [],
   "source": [
    "bert_model = hub.KerasLayer(tfhub_handle_encoder)"
   ]
  },
  {
   "cell_type": "code",
   "execution_count": 12,
   "metadata": {
    "colab": {
     "base_uri": "https://localhost:8080/"
    },
    "id": "1OwLU3WxFEm_",
    "outputId": "78e7b89a-a4ef-4b79-cb12-73b319070d64"
   },
   "outputs": [
    {
     "name": "stdout",
     "output_type": "stream",
     "text": [
      "Loaded BERT: https://tfhub.dev/tensorflow/small_bert/bert_en_uncased_L-2_H-128_A-2/1\n"
     ]
    }
   ],
   "source": [
    "def1 = bert_model(def1_preprocessed)\n",
    "def2 = bert_model(def2_preprocessed)\n",
    "ex1 = bert_model(ex1_preprocessed)\n",
    "ex2 = bert_model(ex2_preprocessed)\n",
    "\n",
    "print(f'Loaded BERT: {tfhub_handle_encoder}')"
   ]
  },
  {
   "cell_type": "code",
   "execution_count": 138,
   "metadata": {
    "id": "zHDWcE4cDMb4"
   },
   "outputs": [],
   "source": [
    "test_def1 = bert_model(test_def1_preprocessed)\n",
    "test_def2 = bert_model(test_def2_preprocessed)\n",
    "test_ex1 = bert_model(test_ex1_preprocessed)\n",
    "test_ex2 = bert_model(test_ex2_preprocessed)\n"
   ]
  },
  {
   "cell_type": "code",
   "execution_count": 13,
   "metadata": {
    "colab": {
     "base_uri": "https://localhost:8080/"
    },
    "id": "vgq6PpPqGU6f",
    "outputId": "c97052cb-09a4-414f-d818-634c3955e056"
   },
   "outputs": [
    {
     "name": "stdout",
     "output_type": "stream",
     "text": [
      "[==================================================] 100.0% 66.0/66.0MB downloaded\n"
     ]
    }
   ],
   "source": [
    "import gensim.downloader as api\n",
    "word_vectors = api.load(\"glove-wiki-gigaword-50\")"
   ]
  },
  {
   "cell_type": "code",
   "execution_count": 14,
   "metadata": {
    "id": "iPOiWexCMK9I"
   },
   "outputs": [],
   "source": [
    "from nltk import word_tokenize\n",
    "from nltk.corpus import stopwords\n",
    "import string\n",
    "\n",
    "exclusions = [list(string.punctuation), '``', \"''\"]\n",
    "\n",
    "def preprocess_sent(sentence):\n",
    "    words = []\n",
    "    if not sentence != sentence:\n",
    "        for word in word_tokenize(sentence):\n",
    "            word = word.lower()\n",
    "            if word not in exclusions and word not in words:\n",
    "                words.append(word)   \n",
    "    return words\n",
    "\n",
    "\n",
    "def common_occurences(words1, words2):    \n",
    "    return len(set(words1) & set(words2))\n",
    "        \n",
    "def extract_features(X):\n",
    "    X_features = []\n",
    "    for i in range(X.shape[0]):\n",
    "        features = []\n",
    "        example1 = preprocess_sent(X['EXAMPLE 1'][i])\n",
    "        example2 = preprocess_sent(X['EXAMPLE 2'][i])\n",
    "        features.append(common_occurences(example1, example2))\n",
    "        \n",
    "        definition1 = preprocess_sent(X['DEFINITION 1'][i])\n",
    "        definition2 = preprocess_sent(X['DEFINITION 2'][i])\n",
    "        features.append(common_occurences(definition1, definition2))\n",
    "        \n",
    "        X_features.append(features)\n",
    "        \n",
    "    return np.array(X_features)"
   ]
  },
  {
   "cell_type": "code",
   "execution_count": 15,
   "metadata": {
    "id": "jvtBFhJETVvA"
   },
   "outputs": [],
   "source": [
    "corpus_features = extract_features(synonyms_corpus)"
   ]
  },
  {
   "cell_type": "code",
   "execution_count": 139,
   "metadata": {
    "id": "wzoU-m0DB28V"
   },
   "outputs": [],
   "source": [
    "test_corpus_features = extract_features(test_corpus)"
   ]
  },
  {
   "cell_type": "code",
   "execution_count": 16,
   "metadata": {
    "id": "9bznwnO8MYk2"
   },
   "outputs": [],
   "source": [
    "wmd_similarities = []\n",
    "for i in range(len(synonyms_corpus)):  \n",
    "  definition1 = preprocess_sent(synonyms_corpus['DEFINITION 1'][i])\n",
    "  definition2 = preprocess_sent(synonyms_corpus['DEFINITION 2'][i])\n",
    "  wmd_similarities.append(word_vectors.wmdistance(definition1, definition2))\n",
    "\n",
    "wmd_similarities_ex = []\n",
    "for i in range(len(synonyms_corpus)):  \n",
    "  example1 = preprocess_sent(synonyms_corpus['EXAMPLE 1'][i])\n",
    "  example2 = preprocess_sent(synonyms_corpus['EXAMPLE 2'][i])\n",
    "  wmd_similarities_ex.append(word_vectors.wmdistance(example1, example2))"
   ]
  },
  {
   "cell_type": "code",
   "execution_count": 140,
   "metadata": {
    "id": "4zD97Iu3DiGh"
   },
   "outputs": [],
   "source": [
    "test_wmd_similarities = []\n",
    "for i in range(len(test_corpus)):  \n",
    "  definition1 = preprocess_sent(test_corpus['DEFINITION 1'][i])\n",
    "  definition2 = preprocess_sent(test_corpus['DEFINITION 2'][i])\n",
    "  test_wmd_similarities.append(word_vectors.wmdistance(definition1, definition2))\n",
    "\n",
    "test_wmd_similarities_ex = []\n",
    "for i in range(len(test_corpus)):  \n",
    "  example1 = preprocess_sent(test_corpus['EXAMPLE 1'][i])\n",
    "  example2 = preprocess_sent(test_corpus['EXAMPLE 2'][i])\n",
    "  test_wmd_similarities_ex.append(word_vectors.wmdistance(example1, example2))"
   ]
  },
  {
   "cell_type": "code",
   "execution_count": 17,
   "metadata": {
    "id": "AIAehWp9OBq2"
   },
   "outputs": [],
   "source": [
    "wmd_similarities = np.array(wmd_similarities).reshape(len(wmd_similarities), 1)\n",
    "wmd_similarities_ex = np.array(wmd_similarities_ex).reshape(len(wmd_similarities_ex), 1)\n",
    "# wmd_similarities_develop = np.array(wmd_similarities_develop).reshape(len(wmd_similarities_develop), 1)"
   ]
  },
  {
   "cell_type": "code",
   "execution_count": 141,
   "metadata": {
    "id": "hy4ESTNpD2Fd"
   },
   "outputs": [],
   "source": [
    "test_wmd_similarities = np.array(test_wmd_similarities).reshape(len(test_wmd_similarities), 1)\n",
    "test_wmd_similarities_ex = np.array(test_wmd_similarities_ex).reshape(len(test_wmd_similarities_ex), 1)\n"
   ]
  },
  {
   "cell_type": "code",
   "execution_count": 19,
   "metadata": {
    "colab": {
     "base_uri": "https://localhost:8080/"
    },
    "id": "4Lmy6f4l0KnM",
    "outputId": "c3ea4a5c-3bfd-4c08-dd57-0af08f285d28"
   },
   "outputs": [
    {
     "name": "stdout",
     "output_type": "stream",
     "text": [
      "[nltk_data] Downloading package wordnet to /root/nltk_data...\n",
      "[nltk_data]   Unzipping corpora/wordnet.zip.\n"
     ]
    },
    {
     "data": {
      "text/plain": [
       "True"
      ]
     },
     "execution_count": 19,
     "metadata": {},
     "output_type": "execute_result"
    }
   ],
   "source": [
    "nltk.download('wordnet')"
   ]
  },
  {
   "cell_type": "code",
   "execution_count": 20,
   "metadata": {
    "id": "Ri0S19od0sFR"
   },
   "outputs": [],
   "source": [
    "from nltk.corpus import wordnet"
   ]
  },
  {
   "cell_type": "code",
   "execution_count": 22,
   "metadata": {
    "colab": {
     "base_uri": "https://localhost:8080/"
    },
    "id": "_m_VW6ED8dcw",
    "outputId": "758f23fb-8693-4d71-88b4-ecf31a181fa3"
   },
   "outputs": [
    {
     "name": "stderr",
     "output_type": "stream",
     "text": [
      "/usr/local/lib/python3.7/dist-packages/numpy/core/fromnumeric.py:3441: RuntimeWarning: Mean of empty slice.\n",
      "  out=out, **kwargs)\n",
      "/usr/local/lib/python3.7/dist-packages/numpy/core/_methods.py:189: RuntimeWarning: invalid value encountered in double_scalars\n",
      "  ret = ret.dtype.type(ret / rcount)\n"
     ]
    }
   ],
   "source": [
    "import itertools\n",
    "from nltk.corpus import wordnet\n",
    "\n",
    "w_similarities = []\n",
    "for i in range(len(synonyms_corpus)):  \n",
    "  # print(i)\n",
    "  w_sim = []\n",
    "  for one, two in itertools.product(synonyms_corpus['LEMMA 1'][i].split(','), synonyms_corpus['LEMMA 2'][i].split(',')):\n",
    "    \n",
    "    first_word = wordnet.synsets(one.strip())\n",
    "    # print(first_word)\n",
    "    second_word = wordnet.synsets(two.strip())\n",
    "    # print(first_word[0].wup_similarity(second_word[0]))\n",
    "    if len(first_word) != 0 and len(second_word) != 0:  \n",
    "      sim = first_word[0].wup_similarity(second_word[0])\n",
    "      if sim != None:\n",
    "        w_sim.append(first_word[0].wup_similarity(second_word[0]))\n",
    "    # print(w_sim)\n",
    "  # print(f\"{i}: {np.mean(np.array(w_sim))}\")\n",
    "  w_similarities.append(np.mean(np.array(w_sim)))\n",
    "\n",
    "wordnet_sim = np.nan_to_num(w_similarities)"
   ]
  },
  {
   "cell_type": "code",
   "execution_count": 142,
   "metadata": {
    "colab": {
     "base_uri": "https://localhost:8080/"
    },
    "id": "B2ITKZ-IEJdN",
    "outputId": "dcddc7fb-040d-4db6-e466-4183f3c0806a"
   },
   "outputs": [
    {
     "name": "stderr",
     "output_type": "stream",
     "text": [
      "/usr/local/lib/python3.7/dist-packages/numpy/core/fromnumeric.py:3441: RuntimeWarning: Mean of empty slice.\n",
      "  out=out, **kwargs)\n",
      "/usr/local/lib/python3.7/dist-packages/numpy/core/_methods.py:189: RuntimeWarning: invalid value encountered in double_scalars\n",
      "  ret = ret.dtype.type(ret / rcount)\n"
     ]
    }
   ],
   "source": [
    "test_w_similarities = []\n",
    "for i in range(len(test_corpus)):  \n",
    "  # print(i)\n",
    "  w_sim = []\n",
    "  for one, two in itertools.product(test_corpus['LEMMA 1'][i].split(','), test_corpus['LEMMA 2'][i].split(',')):\n",
    "    \n",
    "    first_word = wordnet.synsets(one.strip())\n",
    "    # print(first_word)\n",
    "    second_word = wordnet.synsets(two.strip())\n",
    "    # print(first_word[0].wup_similarity(second_word[0]))\n",
    "    if len(first_word) != 0 and len(second_word) != 0:  \n",
    "      sim = first_word[0].wup_similarity(second_word[0])\n",
    "      if sim != None:\n",
    "        w_sim.append(first_word[0].wup_similarity(second_word[0]))\n",
    "    # print(w_sim)\n",
    "  # print(f\"{i}: {np.mean(np.array(w_sim))}\")\n",
    "  test_w_similarities.append(np.mean(np.array(w_sim)))\n",
    "\n",
    "test_wordnet_sim = np.nan_to_num(test_w_similarities)"
   ]
  },
  {
   "cell_type": "code",
   "execution_count": 144,
   "metadata": {
    "id": "B97S_SKf6rLx"
   },
   "outputs": [],
   "source": [
    "# label processing\n",
    "# Fit LabelEncoder with our list of classes\n",
    "label_encoder = LabelEncoder()\n",
    "y = synonyms_corpus['LABEL'].values\n",
    "label_encoder.fit(y)\n",
    "# Encode class values as integers\n",
    "y_encoded = label_encoder.transform(y)\n",
    "y_encoded_cat = np_utils.to_categorical(y_encoded)"
   ]
  },
  {
   "cell_type": "code",
   "execution_count": 145,
   "metadata": {
    "id": "G3ilI2H6EXVU"
   },
   "outputs": [],
   "source": [
    "# label processing\n",
    "# Fit LabelEncoder with our list of classes\n",
    "label_encoder = LabelEncoder()\n",
    "test_y = test_corpus['ANNOTATED'].values\n",
    "label_encoder.fit(test_y)\n",
    "# Encode class values as integers\n",
    "test_y_encoded = label_encoder.transform(test_y)\n",
    "# y_encoded_cat = np_utils.to_categorical(y_encoded)"
   ]
  },
  {
   "cell_type": "code",
   "execution_count": 218,
   "metadata": {
    "id": "wUlGH32jQexN"
   },
   "outputs": [],
   "source": [
    "corpus_pooled = np.concatenate((\n",
    "                             def1['pooled_output'], \n",
    "                             def2['pooled_output'],\n",
    "                            #  ex1['pooled_output'], \n",
    "                            #  ex2['pooled_output'],\n",
    "                             corpus_features,\n",
    "                            #  wordnet_sim.reshape(len(synonyms_corpus), 1),\n",
    "                             wmd_similarities,\n",
    "                            #  wmd_similarities_ex,\n",
    "                            #  y_encoded_cat,\n",
    "                             y_encoded.reshape(len(y_encoded), 1)\n",
    "                             ), axis=1)"
   ]
  },
  {
   "cell_type": "code",
   "execution_count": 219,
   "metadata": {
    "id": "K-ccZbB8Ei9g"
   },
   "outputs": [],
   "source": [
    "test_corpus_pooled = np.concatenate((\n",
    "                             test_def1['pooled_output'], \n",
    "                             test_def2['pooled_output'],\n",
    "                            #  test_ex1['pooled_output'], \n",
    "                            #  test_ex2['pooled_output'],\n",
    "                             test_corpus_features,\n",
    "                            #  wordnet_sim.reshape(len(synonyms_corpus), 1),\n",
    "                             test_wmd_similarities,\n",
    "                            #  test_wmd_similarities_ex,\n",
    "                            #  y_encoded_cat,\n",
    "                             ), axis=1)"
   ]
  },
  {
   "cell_type": "code",
   "execution_count": 220,
   "metadata": {
    "colab": {
     "base_uri": "https://localhost:8080/"
    },
    "id": "FkadIr4FWEw5",
    "outputId": "2802bc9f-17ee-47c3-baf2-ff2db3b346d1"
   },
   "outputs": [
    {
     "data": {
      "text/plain": [
       "(794, 260)"
      ]
     },
     "execution_count": 220,
     "metadata": {},
     "output_type": "execute_result"
    }
   ],
   "source": [
    "splits = []\n",
    "corpus_len = len(corpus_pooled)\n",
    "develop_size = int(corpus_len / 3)\n",
    "for i in range(10):\n",
    "  copy = np.copy(corpus_pooled)\n",
    "  np.random.shuffle(copy)  \n",
    "  splits.append({'train': copy[:(corpus_len - develop_size), :], 'develop': copy[(corpus_len - develop_size):, :]})\n",
    "\n",
    "splits[0]['train'].shape"
   ]
  },
  {
   "cell_type": "code",
   "execution_count": 221,
   "metadata": {
    "id": "q1PaL1OIWKqC"
   },
   "outputs": [],
   "source": [
    "from sklearn.svm import SVC, LinearSVC\n",
    "from sklearn.tree import DecisionTreeClassifier\n",
    "from sklearn.ensemble import RandomForestClassifier\n",
    "from sklearn.neural_network import MLPClassifier\n",
    "# classifier = DecisionTreeClassifier()\n",
    "# classifier = LinearSVC(C=0.1)\n",
    "classifier = RandomForestClassifier(n_estimators=10, max_depth=4, criterion='entropy')\n",
    "# classifier = MLPClassifier(solver='adam', max_iter=500, batch_size=10, learning_rate='adaptive')"
   ]
  },
  {
   "cell_type": "code",
   "execution_count": 222,
   "metadata": {
    "colab": {
     "base_uri": "https://localhost:8080/",
     "height": 1000
    },
    "id": "4vfLquFNYGPb",
    "outputId": "64d58e89-ee64-4191-a959-b45b30af7cad"
   },
   "outputs": [
    {
     "name": "stdout",
     "output_type": "stream",
     "text": [
      "\n",
      "\n",
      "\n",
      "TRAIN ACCURACY: 0.5088161209068011\n",
      "DEVELOP ACCURACY: 0.48737373737373735\n"
     ]
    },
    {
     "data": {
      "image/png": "[encoded data removed]",
      "text/plain": [
       "<Figure size 432x288 with 1 Axes>"
      ]
     },
     "metadata": {
      "needs_background": "light"
     },
     "output_type": "display_data"
    },
    {
     "name": "stdout",
     "output_type": "stream",
     "text": [
      "\n",
      "\n",
      "\n",
      "TRAIN ACCURACY: 0.5075566750629723\n",
      "DEVELOP ACCURACY: 0.4671717171717172\n"
     ]
    },
    {
     "data": {
      "image/png": "[encoded data removed]",
      "text/plain": [
       "<Figure size 432x288 with 1 Axes>"
      ]
     },
     "metadata": {
      "needs_background": "light"
     },
     "output_type": "display_data"
    },
    {
     "name": "stdout",
     "output_type": "stream",
     "text": [
      "\n",
      "\n",
      "\n",
      "TRAIN ACCURACY: 0.5088161209068011\n",
      "DEVELOP ACCURACY: 0.4823232323232323\n"
     ]
    },
    {
     "data": {
      "image/png": "[encoded data removed]",
      "text/plain": [
       "<Figure size 432x288 with 1 Axes>"
      ]
     },
     "metadata": {
      "needs_background": "light"
     },
     "output_type": "display_data"
    },
    {
     "name": "stdout",
     "output_type": "stream",
     "text": [
      "\n",
      "\n",
      "\n",
      "TRAIN ACCURACY: 0.49622166246851385\n",
      "DEVELOP ACCURACY: 0.5176767676767676\n"
     ]
    },
    {
     "data": {
      "image/png": "[encoded data removed]",
      "text/plain": [
       "<Figure size 432x288 with 1 Axes>"
      ]
     },
     "metadata": {
      "needs_background": "light"
     },
     "output_type": "display_data"
    },
    {
     "name": "stdout",
     "output_type": "stream",
     "text": [
      "\n",
      "\n",
      "\n",
      "TRAIN ACCURACY: 0.5050377833753149\n",
      "DEVELOP ACCURACY: 0.45707070707070707\n"
     ]
    },
    {
     "data": {
      "image/png": "[encoded data removed]",
      "text/plain": [
       "<Figure size 432x288 with 1 Axes>"
      ]
     },
     "metadata": {
      "needs_background": "light"
     },
     "output_type": "display_data"
    },
    {
     "name": "stdout",
     "output_type": "stream",
     "text": [
      "\n",
      "\n",
      "\n",
      "TRAIN ACCURACY: 0.4987405541561713\n",
      "DEVELOP ACCURACY: 0.4671717171717172\n"
     ]
    },
    {
     "data": {
      "image/png": "[encoded data removed]",
      "text/plain": [
       "<Figure size 432x288 with 1 Axes>"
      ]
     },
     "metadata": {
      "needs_background": "light"
     },
     "output_type": "display_data"
    },
    {
     "name": "stdout",
     "output_type": "stream",
     "text": [
      "\n",
      "\n",
      "\n",
      "TRAIN ACCURACY: 0.49370277078085645\n",
      "DEVELOP ACCURACY: 0.4671717171717172\n"
     ]
    },
    {
     "data": {
      "image/png": "[encoded data removed]",
      "text/plain": [
       "<Figure size 432x288 with 1 Axes>"
      ]
     },
     "metadata": {
      "needs_background": "light"
     },
     "output_type": "display_data"
    },
    {
     "name": "stdout",
     "output_type": "stream",
     "text": [
      "\n",
      "\n",
      "\n",
      "TRAIN ACCURACY: 0.5100755667506297\n",
      "DEVELOP ACCURACY: 0.45202020202020204\n"
     ]
    },
    {
     "data": {
      "image/png": "[encoded data removed]",
      "text/plain": [
       "<Figure size 432x288 with 1 Axes>"
      ]
     },
     "metadata": {
      "needs_background": "light"
     },
     "output_type": "display_data"
    },
    {
     "name": "stdout",
     "output_type": "stream",
     "text": [
      "\n",
      "\n",
      "\n",
      "TRAIN ACCURACY: 0.5088161209068011\n",
      "DEVELOP ACCURACY: 0.4444444444444444\n"
     ]
    },
    {
     "data": {
      "image/png": "[encoded data removed]",
      "text/plain": [
       "<Figure size 432x288 with 1 Axes>"
      ]
     },
     "metadata": {
      "needs_background": "light"
     },
     "output_type": "display_data"
    },
    {
     "name": "stdout",
     "output_type": "stream",
     "text": [
      "\n",
      "\n",
      "\n",
      "TRAIN ACCURACY: 0.5302267002518891\n",
      "DEVELOP ACCURACY: 0.4595959595959596\n"
     ]
    },
    {
     "data": {
      "image/png": "[encoded data removed]",
      "text/plain": [
       "<Figure size 432x288 with 1 Axes>"
      ]
     },
     "metadata": {
      "needs_background": "light"
     },
     "output_type": "display_data"
    }
   ],
   "source": [
    "import matplotlib.pyplot as plt\n",
    "from sklearn.model_selection import learning_curve\n",
    "from sklearn.metrics import accuracy_score\n",
    "\n",
    "predictions = []\n",
    "avg_acc_train = []\n",
    "avg_acc_develop = []\n",
    "\n",
    "for split in splits:\n",
    "  y_split_train = split['train'][:, -1]\n",
    "  y_split_develop = split['develop'][:, -1]\n",
    "  train = split['train'][:, :-1]\n",
    "  develop = split['develop'][:, :-1]\n",
    "\n",
    "  classifier = classifier.fit(train, y_split_train)\n",
    "  develop_predictions = classifier.predict(develop)\n",
    "  predictions.append(develop_predictions)\n",
    "  evaluate = classifier.score(train, y_split_train)\n",
    "  predict = accuracy_score(develop_predictions, y_split_develop)\n",
    "  print('\\n\\n')\n",
    "  print(\"TRAIN ACCURACY:\", evaluate)\n",
    "  avg_acc_train.append(evaluate)\n",
    "  print(\"DEVELOP ACCURACY:\", predict)\n",
    "  avg_acc_develop.append(predict)\n",
    "  # if evaluate > predict:\n",
    "      \n",
    "  #     if evaluate-predict < 0.1:\n",
    "  #         print(\"okay\")\n",
    "  #     else:\n",
    "  #         print(\"maybe overfit\", evaluate-predict)\n",
    "  # else:\n",
    "  #     print(\"may not be overfit\", predict-evaluate)\n",
    "\n",
    "      \n",
    "\n",
    "  train_sizes, train_scores, valid_scores = learning_curve(\n",
    "      RandomForestClassifier(n_estimators=10, max_depth=4, criterion='entropy'),\n",
    "      np.concatenate((train,develop)), np.concatenate((y_split_train,y_split_develop)), cv=5)\n",
    "\n",
    "\n",
    "  train_mean = np.mean(train_scores, axis=1)\n",
    "  train_std = np.std(train_scores, axis=1)\n",
    "\n",
    "  test_mean = np.mean(valid_scores, axis=1)\n",
    "  test_std = np.std(valid_scores, axis=1)\n",
    "\n",
    "\n",
    "  plt.subplots(1)\n",
    "  plt.plot(train_sizes, train_mean, color=\"orange\",  label=\"Training score\")\n",
    "  plt.plot(train_sizes, test_mean, color=\"g\", label=\"Cross-validation score\")\n",
    "\n",
    "  # plt.fill_between(train_sizes, train_mean - train_std, train_mean + train_std, color=\"#DDDDDD\")\n",
    "  # plt.fill_between(train_sizes, test_mean - test_std, test_mean + test_std, color=\"#DDDDDD\")\n",
    "\n",
    "  plt.title(\"Learning Curve\")\n",
    "  plt.xlabel(\"Training Set Size\"), plt.ylabel(\"Accuracy Score\"), plt.legend(loc=\"best\")\n",
    "  plt.tight_layout()\n",
    "  plt.show()\n",
    "      "
   ]
  },
  {
   "cell_type": "code",
   "execution_count": 223,
   "metadata": {
    "colab": {
     "base_uri": "https://localhost:8080/"
    },
    "id": "IkBiFx7-YJew",
    "outputId": "fbf5934b-041a-489b-d472-10e1bf02ad1d"
   },
   "outputs": [
    {
     "name": "stdout",
     "output_type": "stream",
     "text": [
      "Mean TRAIN 0.5068010075566751\n",
      "Mean DEVELOP 0.4702020202020202\n",
      "(array([0., 3., 4., 5.]), array([  3,   2, 388,   3]))\n",
      "(array([0., 3., 4., 5.]), array([ 12,   3, 377,   4]))\n",
      "(array([0., 4., 5.]), array([ 10, 381,   5]))\n",
      "(array([0., 3., 4., 5.]), array([  5,   4, 386,   1]))\n",
      "(array([0., 3., 4., 5.]), array([  2,   3, 390,   1]))\n",
      "(array([0., 3., 4., 5.]), array([  1,   2, 388,   5]))\n",
      "(array([0., 4., 5.]), array([  1, 394,   1]))\n",
      "(array([4.]), array([396]))\n",
      "(array([0., 4., 5.]), array([  6, 388,   2]))\n",
      "(array([0., 3., 4., 5.]), array([  3,   6, 386,   1]))\n"
     ]
    }
   ],
   "source": [
    "print(\"Mean TRAIN\", np.mean(avg_acc_train))\n",
    "print(\"Mean DEVELOP\", np.mean(avg_acc_develop))\n",
    "\n",
    "# a = ['equivalent', 'less intense', 'less specific', 'more intense', 'more specific', 'related']\n",
    "# prediction_labels = []\n",
    "# for pred in predictions:\n",
    "#   prediction_labels.append(pred.argmax(1))\n",
    "\n",
    "for pred in predictions:\n",
    "  print(np.unique(pred, return_counts=True))"
   ]
  },
  {
   "cell_type": "code",
   "execution_count": 224,
   "metadata": {
    "id": "CsMYrvQXy0ff"
   },
   "outputs": [],
   "source": [
    "test_predictions = classifier.predict(test_corpus_pooled)"
   ]
  },
  {
   "cell_type": "code",
   "execution_count": 225,
   "metadata": {
    "colab": {
     "base_uri": "https://localhost:8080/"
    },
    "id": "fZX5Ub63FUSG",
    "outputId": "86b20894-6293-4eec-8342-22105532f124"
   },
   "outputs": [
    {
     "data": {
      "text/plain": [
       "array([4., 4., 4., 4., 0., 4., 4., 4., 4., 4., 4., 4., 4., 4., 4., 4., 4.,\n",
       "       4., 4., 4., 4., 4., 4., 4., 4., 4., 4., 4., 4., 4., 4., 4., 4., 4.,\n",
       "       4., 4., 4., 4., 4., 4., 4., 4., 4., 4., 4., 4., 4., 4., 4., 4., 4.,\n",
       "       4., 4., 4., 4., 4., 4., 4., 3., 3., 4., 3., 4., 4., 4., 4., 4., 4.,\n",
       "       4., 4., 4., 4., 4., 4., 4., 4., 4., 4., 4., 4., 4., 4., 4., 4., 4.,\n",
       "       4., 4., 4., 4., 4., 4., 4., 4., 4., 4., 4., 4., 4., 4., 4., 4., 4.,\n",
       "       4.])"
      ]
     },
     "execution_count": 225,
     "metadata": {},
     "output_type": "execute_result"
    }
   ],
   "source": [
    "test_predictions"
   ]
  },
  {
   "cell_type": "code",
   "execution_count": 226,
   "metadata": {
    "colab": {
     "base_uri": "https://localhost:8080/"
    },
    "id": "7MCMoYQmFE5F",
    "outputId": "f2cd4b21-589c-45fa-ecbe-9b7c8bb9aad0"
   },
   "outputs": [
    {
     "data": {
      "text/plain": [
       "0.32038834951456313"
      ]
     },
     "execution_count": 226,
     "metadata": {},
     "output_type": "execute_result"
    }
   ],
   "source": [
    "accuracy_score(test_predictions, test_y_encoded)"
   ]
  },
  {
   "cell_type": "code",
   "execution_count": 227,
   "metadata": {
    "colab": {
     "base_uri": "https://localhost:8080/"
    },
    "id": "OeSZ-54VFiFU",
    "outputId": "57d9d1ab-5fe6-4d39-ac07-1299abe56151"
   },
   "outputs": [
    {
     "data": {
      "text/plain": [
       "array([4, 4, 0, 3, 4, 5, 0, 4, 0, 0, 3, 4, 3, 3, 4, 2, 0, 4, 5, 4, 1, 5,\n",
       "       4, 1, 4, 4, 0, 4, 5, 4, 4, 3, 3, 0, 5, 4, 0, 3, 0, 4, 5, 2, 5, 4,\n",
       "       3, 3, 0, 1, 4, 5, 5, 0, 4, 3, 0, 1, 0, 3, 3, 5, 4, 0, 4, 4, 5, 3,\n",
       "       0, 5, 0, 2, 3, 0, 4, 4, 5, 0, 0, 4, 2, 5, 5, 4, 4, 4, 0, 0, 2, 3,\n",
       "       5, 4, 5, 5, 4, 4, 5, 5, 3, 4, 0, 3, 4, 3, 5])"
      ]
     },
     "execution_count": 227,
     "metadata": {},
     "output_type": "execute_result"
    }
   ],
   "source": [
    "test_y_encoded"
   ]
  },
  {
   "cell_type": "code",
   "execution_count": null,
   "metadata": {
    "id": "VWiN-tskF8dK"
   },
   "outputs": [],
   "source": []
  }
 ],
 "metadata": {
  "colab": {
   "collapsed_sections": [],
   "name": "[Task4]Synonyms_Equivalence_Classifier.ipynb",
   "provenance": []
  },
  "kernelspec": {
   "display_name": "Python 3",
   "language": "python",
   "name": "python3"
  },
  "language_info": {
   "codemirror_mode": {
    "name": "ipython",
    "version": 3
   },
   "file_extension": ".py",
   "mimetype": "text/x-python",
   "name": "python",
   "nbconvert_exporter": "python",
   "pygments_lexer": "ipython3",
   "version": "3.7.6"
  }
 },
 "nbformat": 4,
 "nbformat_minor": 1
}
